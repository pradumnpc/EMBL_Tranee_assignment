{
 "cells": [
  {
   "cell_type": "code",
   "execution_count": 6,
   "id": "3af69f9e",
   "metadata": {},
   "outputs": [],
   "source": [
    "import pandas as pd \n",
    "import glob\n",
    "from bioinfokit import analys, visuz\n",
    "import re \n",
    "\n",
    "st = 'data\\dataset1.csv'\n",
    "\n",
    "na = re.search(\"data\\\\\\(.*)\",st)\n",
    "na.group(1)"
   ]
  },
  {
   "cell_type": "code",
   "execution_count": 71,
   "id": "f7fc6cc9",
   "metadata": {},
   "outputs": [],
   "source": [
    "for i in glob.glob(\"data\\*.csv\"):\n",
    "    name = re.search(\"data\\\\\\(.*)\\.csv\",str(i))\n",
    "    name = name.group(1)\n",
    "    df = pd.read_csv(i)\n",
    "    df.head()\n",
    "    df = df.dropna()\n",
    "    visuz.GeneExpression.ma(df=df, lfc='log2FoldChange', ct_count='lfcSE', st_count='lfcSE', pv='pvalue',plotlegend=True,figname=\"results/MA/\"+name)\n",
    "    visuz.GeneExpression.volcano(df=df, lfc='log2FoldChange', pv='pvalue',figname=\"results/Volcano/\"+name)"
   ]
  },
  {
   "cell_type": "code",
   "execution_count": 26,
   "id": "c253f8c5",
   "metadata": {},
   "outputs": [],
   "source": [
    "df = pd.read_csv('data/dataset2.csv')\n",
    "df.head()\n",
    "df = df.dropna()\n",
    "visuz.GeneExpression.ma(df=df, lfc='log2FoldChange', ct_count='lfcSE', st_count='lfcSE', pv='pvalue',figname=\"dataset1\")\n",
    "visuz.GeneExpression.volcano(df=df, lfc='log2FoldChange', pv='pvalue',figname=\"dataset2\")\n"
   ]
  },
  {
   "cell_type": "code",
   "execution_count": null,
   "id": "4be9ce45",
   "metadata": {},
   "outputs": [],
   "source": [
    "from bioinfokit import analys, visuz\n",
    "# load dataset as pandas dataframe\n",
    "df = analys.get_data('ma').data\n",
    "df.head(2)\n",
    "          GeneNames  value1  value2    log2FC       p-value\n",
    "0  LOC_Os09g01000.1    8862   32767 -1.886539  1.250000e-55\n",
    "1  LOC_Os12g42876.1    1099     117  3.231611  1.050000e-55\n",
    "\n",
    "visuz.GeneExpression.ma(df=df, lfc='log2FC', ct_count='value1', st_count='value2', pv='p-value')"
   ]
  },
  {
   "cell_type": "code",
   "execution_count": 35,
   "id": "3fb350c2",
   "metadata": {},
   "outputs": [
    {
     "data": {
      "text/html": [
       "<div>\n",
       "<style scoped>\n",
       "    .dataframe tbody tr th:only-of-type {\n",
       "        vertical-align: middle;\n",
       "    }\n",
       "\n",
       "    .dataframe tbody tr th {\n",
       "        vertical-align: top;\n",
       "    }\n",
       "\n",
       "    .dataframe thead th {\n",
       "        text-align: right;\n",
       "    }\n",
       "</style>\n",
       "<table border=\"1\" class=\"dataframe\">\n",
       "  <thead>\n",
       "    <tr style=\"text-align: right;\">\n",
       "      <th></th>\n",
       "      <th>Unnamed: 0</th>\n",
       "      <th>baseMean</th>\n",
       "      <th>log2FoldChange</th>\n",
       "      <th>lfcSE</th>\n",
       "      <th>stat</th>\n",
       "      <th>pvalue</th>\n",
       "      <th>padj</th>\n",
       "    </tr>\n",
       "  </thead>\n",
       "  <tbody>\n",
       "    <tr>\n",
       "      <th>0</th>\n",
       "      <td>gene1</td>\n",
       "      <td>109.136103</td>\n",
       "      <td>2.619545</td>\n",
       "      <td>0.501273</td>\n",
       "      <td>5.225784</td>\n",
       "      <td>1.734191e-07</td>\n",
       "      <td>0.000002</td>\n",
       "    </tr>\n",
       "    <tr>\n",
       "      <th>1</th>\n",
       "      <td>gene2</td>\n",
       "      <td>21.822710</td>\n",
       "      <td>0.156713</td>\n",
       "      <td>0.599716</td>\n",
       "      <td>0.261312</td>\n",
       "      <td>7.938519e-01</td>\n",
       "      <td>0.867599</td>\n",
       "    </tr>\n",
       "    <tr>\n",
       "      <th>2</th>\n",
       "      <td>gene3</td>\n",
       "      <td>16.199002</td>\n",
       "      <td>-0.775808</td>\n",
       "      <td>0.831027</td>\n",
       "      <td>-0.933554</td>\n",
       "      <td>3.505340e-01</td>\n",
       "      <td>0.482146</td>\n",
       "    </tr>\n",
       "    <tr>\n",
       "      <th>3</th>\n",
       "      <td>gene4</td>\n",
       "      <td>15.058614</td>\n",
       "      <td>-2.038400</td>\n",
       "      <td>0.793022</td>\n",
       "      <td>-2.570421</td>\n",
       "      <td>1.015749e-02</td>\n",
       "      <td>0.028426</td>\n",
       "    </tr>\n",
       "    <tr>\n",
       "      <th>4</th>\n",
       "      <td>gene5</td>\n",
       "      <td>3.683088</td>\n",
       "      <td>-3.399092</td>\n",
       "      <td>1.637710</td>\n",
       "      <td>-2.075516</td>\n",
       "      <td>3.793875e-02</td>\n",
       "      <td>0.083555</td>\n",
       "    </tr>\n",
       "  </tbody>\n",
       "</table>\n",
       "</div>"
      ],
      "text/plain": [
       "  Unnamed: 0    baseMean  log2FoldChange     lfcSE      stat        pvalue  \\\n",
       "0      gene1  109.136103        2.619545  0.501273  5.225784  1.734191e-07   \n",
       "1      gene2   21.822710        0.156713  0.599716  0.261312  7.938519e-01   \n",
       "2      gene3   16.199002       -0.775808  0.831027 -0.933554  3.505340e-01   \n",
       "3      gene4   15.058614       -2.038400  0.793022 -2.570421  1.015749e-02   \n",
       "4      gene5    3.683088       -3.399092  1.637710 -2.075516  3.793875e-02   \n",
       "\n",
       "       padj  \n",
       "0  0.000002  \n",
       "1  0.867599  \n",
       "2  0.482146  \n",
       "3  0.028426  \n",
       "4  0.083555  "
      ]
     },
     "execution_count": 35,
     "metadata": {},
     "output_type": "execute_result"
    }
   ],
   "source": [
    "df.head()"
   ]
  },
  {
   "cell_type": "code",
   "execution_count": 63,
   "id": "32c7085b",
   "metadata": {},
   "outputs": [
    {
     "data": {
      "text/plain": [
       "'dataset1.csv'"
      ]
     },
     "execution_count": 63,
     "metadata": {},
     "output_type": "execute_result"
    }
   ],
   "source": [
    "import re \n",
    "\n",
    "st = 'data\\dataset1.csv'\n",
    "\n",
    "na = re.search(\"data\\\\\\(.*)\",st)\n",
    "na.group(1)"
   ]
  },
  {
   "cell_type": "code",
   "execution_count": null,
   "id": "f6d9a4fb",
   "metadata": {},
   "outputs": [],
   "source": []
  }
 ],
 "metadata": {
  "kernelspec": {
   "display_name": "Python 3 (ipykernel)",
   "language": "python",
   "name": "python3"
  },
  "language_info": {
   "codemirror_mode": {
    "name": "ipython",
    "version": 3
   },
   "file_extension": ".py",
   "mimetype": "text/x-python",
   "name": "python",
   "nbconvert_exporter": "python",
   "pygments_lexer": "ipython3",
   "version": "3.9.5"
  }
 },
 "nbformat": 4,
 "nbformat_minor": 5
}
